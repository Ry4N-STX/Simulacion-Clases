{
 "cells": [
  {
   "cell_type": "markdown",
   "metadata": {},
   "source": [
    "# El modelo epidémico de SIR\n",
    "Una descripción matemática simple de la propagación de una enfermedad en una población es el llamado modelo SIR, que divide la población (fija) de N individuos en tres \"compartimentos\" que pueden variar en función del tiempo, t:\n",
    "\n",
    "* S(t) son aquellos susceptibles pero aún no infectados con la enfermedad;\n",
    "* I(t) es el número de individuos infecciosos;\n",
    "* R(t) son aquellas personas que se han recuperado de la enfermedad y ahora tienen inmunidad.\n",
    "\n",
    "El modelo SIR describe el cambio en la población de cada uno de estos compartimentos en términos de dos parámetros,  beta y  gamma.  \n",
    "- Beta describe la tasa de contacto efectiva de la enfermedad: un individuo infectado entra en contacto con  beta*N otros individuos por unidad de tiempo (de los cuales la fracción que es susceptible a contraer la enfermedad es S/N).  \n",
    "- Gamma es la tasa de recuperación promedio: es decir, 1/ gamma es el período de tiempo promedio durante el cual una persona infectada puede transmitirlo.\n",
    "\n",
    "Las ecuaciones diferenciales que describen este modelo fueron derivadas primero por Kermack y McKendrick [ Proc. R. Soc. A , 115 , 772 (1927)]:"
   ]
  },
  {
   "cell_type": "markdown",
   "metadata": {},
   "source": [
    "\\begin{align*}\n",
    "\\frac{\\mathrm{d}S}{\\mathrm{d}t} &= -\\frac{\\beta S I}{N},\\\\\n",
    "\\frac{\\mathrm{d}I}{\\mathrm{d}t} &= \\frac{\\beta S I}{N} - \\gamma I,\\\\\n",
    "\\frac{\\mathrm{d}R}{\\mathrm{d}t} &= \\gamma I.\n",
    "\\end{align*}"
   ]
  },
  {
   "cell_type": "markdown",
   "metadata": {},
   "source": [
    "El siguiente código de Python integra estas ecuaciones para una enfermedad caracterizada por los parámetros  beta=0.2, gamma=10  en una población de N=1000 (quizás 'gripe en una escuela ) El modelo se inicia con una sola persona infectada el día 0: I(0)=1. Las curvas trazadas de S(t), I(t) y R(t) están diseñadas para verse un poco mejor que los valores predeterminados de Matplotlib."
   ]
  },
  {
   "cell_type": "code",
   "execution_count": 10,
   "metadata": {},
   "outputs": [
    {
     "data": {
      "image/png": "[encoded data removed]",
      "text/plain": [
       "<Figure size 432x288 with 1 Axes>"
      ]
     },
     "metadata": {},
     "output_type": "display_data"
    }
   ],
   "source": [
    "#Importar las librerias.\n",
    "import numpy as np\n",
    "from scipy.integrate import odeint\n",
    "import matplotlib.pyplot as plt\n",
    "\n",
    "# Total de la poblacion\n",
    "N = 15000\n",
    "# Numero Inicial de Infectados\n",
    "I0 = 1\n",
    "# Numero de Recuperados\n",
    "R0 = 0\n",
    "# Todos los demás, S0, son susceptibles a la infección inicialmente.\n",
    "S0 = N - I0 - R0\n",
    "# Tasa de contacto, beta (nivel de repoductividad del virus) \n",
    "# La tasa de recuperación media, gamma,(1/días) Una persona se recupera en 15 dias.\n",
    "beta, gamma = 0.4, 1.0/5 \n",
    "# Una cuadrícula de puntos de tiempo (en días)\n",
    "t = np.linspace(0, 200, 200)\n",
    "\n",
    "\n",
    "# Las ecuaciones diferenciales del modelo SIR..\n",
    "def deriv(y, t, N, beta, gamma):\n",
    "    S, I, R = y\n",
    "    dSdt = -beta * S * I / N \n",
    "    dIdt = beta * S * I / N - gamma * I\n",
    "    dRdt = gamma * I\n",
    "    return dSdt, dIdt, dRdt\n",
    "\n",
    "# Vector de condiciones iniciales\n",
    "y0 = S0, I0, R0\n",
    "# Integre las ecuaciones SIR en la cuadrícula de tiempo, t. A traves de la funcion odeint()\n",
    "ret = odeint(deriv, y0, t, args=(N, beta, gamma))\n",
    "S, I, R = ret.T # Obtenicion de resultados\n",
    "\n",
    "\n",
    "#  Trace los datos en tres curvas separadas para S (t), I (t) y R (t)\n",
    "fig = plt.figure(facecolor='w')\n",
    "ax = fig.add_subplot(111,  axisbelow=True)\n",
    "ax.plot(t, S, 'b', alpha=0.5, lw=2, label='Sustible de infeccion')\n",
    "ax.plot(t, I, 'r', alpha=0.5, lw=2, label='Infectados')\n",
    "ax.plot(t, R, 'g', alpha=0.5, lw=2, label='Recuperados')\n",
    "ax.set_xlabel('Tiempo en dias')\n",
    "ax.set_ylabel('Numero de Personas')\n",
    "ax.set_ylim(0,N*1.2)\n",
    "ax.yaxis.set_tick_params(length=0)\n",
    "ax.xaxis.set_tick_params(length=0)\n",
    "ax.grid(b=True, which='major', c='w', lw=2, ls='-')\n",
    "legend = ax.legend()\n",
    "legend.get_frame().set_alpha(0.5)\n",
    "for spine in ('top', 'right', 'bottom', 'left'):\n",
    "    ax.spines[spine].set_visible(False)\n",
    "plt.show()\n",
    "\n",
    "#Ro = beta/gamma\n",
    "#print(Ro)\n"
   ]
  },
  {
   "cell_type": "markdown",
   "metadata": {},
   "source": [
    "## Generar la prediccion del modelos SIR\n",
    "\n",
    " Se debe  estimar el valor de \n",
    "- β \n",
    "- γ\n",
    "\n",
    "Para ajustar el modelo SIR con los casos confirmados reales (el número de personas infecciosas) del Ecuador.\n",
    " \n",
    " Para ello deben seguir el siguiente tutorial \n",
    " https://www.lewuathe.com/covid-19-dynamics-with-sir-model.html\n",
    " \n"
   ]
  },
  {
   "cell_type": "code",
   "execution_count": 1,
   "metadata": {},
   "outputs": [
    {
     "data": {
      "text/html": [
       "<div>\n",
       "<style scoped>\n",
       "    .dataframe tbody tr th:only-of-type {\n",
       "        vertical-align: middle;\n",
       "    }\n",
       "\n",
       "    .dataframe tbody tr th {\n",
       "        vertical-align: top;\n",
       "    }\n",
       "\n",
       "    .dataframe thead th {\n",
       "        text-align: right;\n",
       "    }\n",
       "</style>\n",
       "<table border=\"1\" class=\"dataframe\">\n",
       "  <thead>\n",
       "    <tr style=\"text-align: right;\">\n",
       "      <th></th>\n",
       "      <th>nombre_canton</th>\n",
       "      <th>fecha</th>\n",
       "      <th>casos_confirmados</th>\n",
       "      <th>Alta hospitalaria</th>\n",
       "    </tr>\n",
       "  </thead>\n",
       "  <tbody>\n",
       "    <tr>\n",
       "      <td>0</td>\n",
       "      <td>guayaquil</td>\n",
       "      <td>73</td>\n",
       "      <td>7</td>\n",
       "      <td>NaN</td>\n",
       "    </tr>\n",
       "    <tr>\n",
       "      <td>1</td>\n",
       "      <td>babahoyo</td>\n",
       "      <td>73</td>\n",
       "      <td>11</td>\n",
       "      <td>NaN</td>\n",
       "    </tr>\n",
       "    <tr>\n",
       "      <td>2</td>\n",
       "      <td>quito</td>\n",
       "      <td>73</td>\n",
       "      <td>4</td>\n",
       "      <td>NaN</td>\n",
       "    </tr>\n",
       "    <tr>\n",
       "      <td>3</td>\n",
       "      <td>lago agrio</td>\n",
       "      <td>73</td>\n",
       "      <td>1</td>\n",
       "      <td>NaN</td>\n",
       "    </tr>\n",
       "    <tr>\n",
       "      <td>4</td>\n",
       "      <td>cuenca</td>\n",
       "      <td>74</td>\n",
       "      <td>1</td>\n",
       "      <td>NaN</td>\n",
       "    </tr>\n",
       "    <tr>\n",
       "      <td>...</td>\n",
       "      <td>...</td>\n",
       "      <td>...</td>\n",
       "      <td>...</td>\n",
       "      <td>...</td>\n",
       "    </tr>\n",
       "    <tr>\n",
       "      <td>2982</td>\n",
       "      <td>yantzaza</td>\n",
       "      <td>105</td>\n",
       "      <td>1</td>\n",
       "      <td>696.0</td>\n",
       "    </tr>\n",
       "    <tr>\n",
       "      <td>2983</td>\n",
       "      <td>Zamora</td>\n",
       "      <td>105</td>\n",
       "      <td>3</td>\n",
       "      <td>696.0</td>\n",
       "    </tr>\n",
       "    <tr>\n",
       "      <td>2984</td>\n",
       "      <td>san cristobal</td>\n",
       "      <td>105</td>\n",
       "      <td>7</td>\n",
       "      <td>696.0</td>\n",
       "    </tr>\n",
       "    <tr>\n",
       "      <td>2985</td>\n",
       "      <td>isabela</td>\n",
       "      <td>105</td>\n",
       "      <td>1</td>\n",
       "      <td>696.0</td>\n",
       "    </tr>\n",
       "    <tr>\n",
       "      <td>2986</td>\n",
       "      <td>santa cruz</td>\n",
       "      <td>105</td>\n",
       "      <td>4</td>\n",
       "      <td>696.0</td>\n",
       "    </tr>\n",
       "  </tbody>\n",
       "</table>\n",
       "<p>2987 rows × 4 columns</p>\n",
       "</div>"
      ],
      "text/plain": [
       "      nombre_canton  fecha  casos_confirmados  Alta hospitalaria\n",
       "0         guayaquil     73                  7                NaN\n",
       "1          babahoyo     73                 11                NaN\n",
       "2             quito     73                  4                NaN\n",
       "3        lago agrio     73                  1                NaN\n",
       "4            cuenca     74                  1                NaN\n",
       "...             ...    ...                ...                ...\n",
       "2982       yantzaza    105                  1              696.0\n",
       "2983         Zamora    105                  3              696.0\n",
       "2984  san cristobal    105                  7              696.0\n",
       "2985        isabela    105                  1              696.0\n",
       "2986     santa cruz    105                  4              696.0\n",
       "\n",
       "[2987 rows x 4 columns]"
      ]
     },
     "execution_count": 1,
     "metadata": {},
     "output_type": "execute_result"
    }
   ],
   "source": [
    "import pandas as pd\n",
    "import numpy as np\n",
    "from datetime import datetime,timedelta\n",
    "from sklearn.metrics import mean_squared_error\n",
    "from scipy.optimize import curve_fit\n",
    "from scipy.optimize import fsolve\n",
    "from sklearn import linear_model\n",
    "from sklearn.model_selection import train_test_split\n",
    "from sklearn.preprocessing import PolynomialFeatures\n",
    "from sklearn.linear_model import LinearRegression\n",
    "import matplotlib.pyplot as plt\n",
    "\n",
    "from scipy.integrate import solve_ivp\n",
    "from scipy.optimize import minimize\n",
    "import matplotlib.pyplot as plt\n",
    "from datetime import timedelta, datetime\n",
    "%matplotlib inline\n",
    "\n",
    "df = pd.read_csv('covid_ec.csv', sep=',')\n",
    "df\n",
    "FMT = '%d/%m/%Y'\n",
    "date = df['fecha']\n",
    "df['fecha'] = date.map(lambda x : (datetime.strptime(x, FMT) - datetime.strptime(\"31/12/2019\", FMT)).days)\n",
    "df = df.loc[:,['nombre_canton','fecha','casos_confirmados','Alta hospitalaria']]\n",
    "df\n",
    "\n"
   ]
  },
  {
   "cell_type": "code",
   "execution_count": 2,
   "metadata": {
    "scrolled": true
   },
   "outputs": [
    {
     "name": "stdout",
     "output_type": "stream",
     "text": [
      "(array([ 0.02238588, -0.07267386,  4.72561595]), array([[ 6.05077185e-02,  2.45588025e-02, -7.32915529e+00],\n",
      "       [ 2.45588025e-02,  9.97618813e-03, -2.95486487e+00],\n",
      "       [-7.32915529e+00, -2.95486487e+00,  9.48931243e+02]]))\n",
      "Casos: 27632.99800270358\n"
     ]
    },
    {
     "data": {
      "image/png": "[encoded data removed]",
      "text/plain": [
       "<Figure size 432x288 with 1 Axes>"
      ]
     },
     "metadata": {
      "needs_background": "light"
     },
     "output_type": "display_data"
    }
   ],
   "source": [
    "# Implementar y explicar la predicion del modelo SIR para el Ecuador\n",
    "# 1. Implementar solo teniendo en cuenta los casos confirmados\n",
    "x = list(df.iloc [:, 1]) # Fecha \n",
    "y = list(df.iloc [:, 2]) # Numero de casos \n",
    "z = list(df.iloc [:, 3]) # Recuperados\n",
    "def  exponencial ( x ,  a ,  b ,  c ): \n",
    "    return a * np . exp ( - b * x ) + c\n",
    "exp_fit = curve_fit ( exponencial ,  x ,  y ,  p0 = ( 1 ,  1e-6 ,  1 ))\n",
    "print(exp_fit)\n",
    "pred_x = list(range(min(x),max(x)+100))\n",
    "plt.scatter(x,y,label=\"Datos Reales\",color=\"blue\")\n",
    "plt.plot(pred_x, [exponencial(i,exp_fit[1][1],exp_fit[1][2],c= ( 2 ,  1e-6 ,  2 )) for i in pred_x], label=\"Modelo Exponencial\" )\n",
    "plt.xlabel(\"31/12/2019\")\n",
    "plt.ylabel(\"Personas infectadas\")\n",
    "plt.xlim(60, max(x)*1)\n",
    "plt.ylim(0, max(y)*3)\n",
    "casos=pred_x, [exponencial(i,exp_fit[0][0],exp_fit[0][1],c= ( 1 ,  1e-6 ,  1 )) for i in pred_x]\n",
    "print('Casos:',casos[1][120][0])\n",
    "plt.show()\n",
    "\n",
    "# 2. Implementar teniendo en cuenta los casos confirmados y recuperados.\n"
   ]
  },
  {
   "cell_type": "code",
   "execution_count": 3,
   "metadata": {},
   "outputs": [
    {
     "name": "stdout",
     "output_type": "stream",
     "text": [
      "0.3999999999999875\n",
      "0.4\n"
     ]
    }
   ],
   "source": [
    "data=list(df.iloc[:,2])                                                             \n",
    "poblacion=30000\n",
    "i0=27632\n",
    "r0=0\n",
    "s0=poblacion - i0 - r0\n",
    "        \n",
    "def loss(point, data):\n",
    "    size = len(data)\n",
    "    beta, gamma = point\n",
    "    def SIR(t, y):\n",
    "        S = y[0]\n",
    "        I = y[1]\n",
    "        R = y[2]\n",
    "        return [-beta*S*I, beta*S*I-gamma*I, gamma*I]\n",
    "    solution = solve_ivp(SIR, [0, size], [s0,i0,r0], t_eval=np.arange(0, size, 1), vectorized=True)\n",
    "    return np.sqrt(np.mean((solution.y[1] - data)**2))\n",
    "\n",
    "optimal = minimize(loss,[0.001, 0.001],args=(data),method='L-BFGS-B',bounds=[(0.00000001, 0.4), (0.00000001, 0.4)])\n",
    "beta,gamma=optimal.x\n",
    "print(beta)\n",
    "print(gamma)"
   ]
  },
  {
   "cell_type": "code",
   "execution_count": 4,
   "metadata": {},
   "outputs": [
    {
     "name": "stdout",
     "output_type": "stream",
     "text": [
      "0.3999999999999875\n",
      "0.4\n"
     ]
    },
    {
     "data": {
      "image/png": "[encoded data removed]",
      "text/plain": [
       "<Figure size 432x288 with 1 Axes>"
      ]
     },
     "metadata": {},
     "output_type": "display_data"
    }
   ],
   "source": [
    "import numpy as np\n",
    "from scipy.integrate import odeint\n",
    "import matplotlib.pyplot as plt\n",
    "N = poblacion\n",
    "I0 = i0\n",
    "R0 = r0\n",
    "S0 = N - I0 - R0\n",
    "beta= 0.3999999999999875\n",
    "gamma = 0.4\n",
    "t = np.linspace(0, 20, 50)\n",
    "def deriv(y, t, N, beta, gamma):\n",
    "    S, I, R = y\n",
    "    dSdt = -beta * S * I / N \n",
    "    dIdt = beta * S * I / N - gamma * I\n",
    "    dRdt = gamma * I\n",
    "    return dSdt, dIdt, dRdt\n",
    "y0 = S0, I0, R0\n",
    "ret = odeint(deriv, y0, t, args=(N, beta, gamma))\n",
    "S, I, R = ret.T\n",
    "fig = plt.figure(facecolor='w')\n",
    "ax = fig.add_subplot(111,  axisbelow=True)\n",
    "ax.plot(t, S, 'b', alpha=0.5, lw=2, label='Sustible de infeccion')\n",
    "ax.plot(t, I, 'r', alpha=0.5, lw=2, label='Infectados')\n",
    "ax.plot(t, R, 'g', alpha=0.5, lw=2, label='Recuperados')\n",
    "ax.set_xlabel('Tiempo en dias')\n",
    "ax.set_ylabel('Numero de Personas')\n",
    "legend = ax.legend()\n",
    "print(beta)\n",
    "print(gamma)"
   ]
  },
  {
   "cell_type": "markdown",
   "metadata": {},
   "source": [
    "\n",
    "## Calculos de incidencia\n",
    "\n",
    "Para obtener metricas de incidencia se debe calcular la tasa de prevalencia, incidencia y la relacion, para esto leer y obtener estos datos con la ultima lectura.\n",
    "\n",
    "https://www.paho.org/hq/index.php?option=com_content&view=article&id=14402:indicadores-de-salud-aspectos-conceptuales-y-operativos-seccion-2&catid=9894&limitstart=2&Itemid=101&lang=es"
   ]
  },
  {
   "cell_type": "code",
   "execution_count": 5,
   "metadata": {},
   "outputs": [
    {
     "name": "stdout",
     "output_type": "stream",
     "text": [
      "Tasa de Incidencia ---> 24.5078313015347\n",
      "Tasa de Prevalencia --->  1.9078262787189753\n",
      "Relación --->  686.2192764429716\n"
     ]
    }
   ],
   "source": [
    "# Implementar\n",
    "# Funciones\n",
    "def incidencia(nuevos,riesgo,n):\n",
    "    return (nuevos/riesgo)*pow(10,n)\n",
    "def prevalencia(casos,poblacion,n):\n",
    "    return (casos/poblacion)*pow(10,n)\n",
    "def relacion(incidencia,tiempo):\n",
    "    return incidencia*tiempo\n",
    "# datos\n",
    "inci=incidencia(6212,25347,2)\n",
    "prev=prevalencia(27632,14483499,3)\n",
    "rela=relacion(inci,28)\n",
    "\n",
    "print('Tasa de Incidencia --->',inci)\n",
    "print('Tasa de Prevalencia ---> ',prev)\n",
    "print('Relación ---> ',rela)"
   ]
  },
  {
   "cell_type": "markdown",
   "metadata": {},
   "source": [
    "## Analisis\n",
    "En cuanto al modelo epidémico de SIR este nos muestra como la enfermedad en este caso en base a nuestro archivo de datos esta avanzando, este mismo toma en cuenta tres variantes que son los susceptibles, infectados y recuperados.\n",
    "\n",
    "## Conclusiones\n",
    "Aunque el modelo SIR puede resultar complejo, este nos ha demostrado que es capaz de capturar muchas de las características típicas de los brotes epidémicos mediante la tasa de infección y el período infeccioso promedio, además este modelo supone que dodos los individuos sin excepción tiene la misma probabilidad de contagiarse del virus en cuestión. Por lo cual debemos entender que a pesar de las medidas tomadas en nuestro país el riesgo siempre existirá \n",
    "\n",
    "## Opinion\n",
    "En cuanto al código no puedo asegurar que eso sea correcto ya que implementar este modelo fue complejo y cabe decir que con los datos no existe una certeza de que sean siempre ciertos o tomados de manera correcto, pero el cuento al modelo este si me parece una buena implementación que deja a la vista el crecimiento que el virus puede tener conforme pasa el tiempo y el mismo riesgo que todos sufrimos en este caso.\n"
   ]
  },
  {
   "cell_type": "markdown",
   "metadata": {},
   "source": [
    "# Referencias:\n",
    "- https://www.agenciasinc.es/Reportajes/Un-modelo-un-teorema-y-teoria-de-juegos-contra-el-coronavirus\n",
    "- https://rpubs.com/dsfernandez/422937\n",
    "- https://towardsdatascience.com/modelling-the-coronavirus-epidemic-spreading-in-a-city-with-python-babd14d82fa2"
   ]
  }
 ],
 "metadata": {
  "kernelspec": {
   "display_name": "Python 3",
   "language": "python",
   "name": "python3"
  },
  "language_info": {
   "codemirror_mode": {
    "name": "ipython",
    "version": 3
   },
   "file_extension": ".py",
   "mimetype": "text/x-python",
   "name": "python",
   "nbconvert_exporter": "python",
   "pygments_lexer": "ipython3",
   "version": "3.7.4"
  }
 },
 "nbformat": 4,
 "nbformat_minor": 2
}
