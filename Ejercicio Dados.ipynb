{
 "cells": [
  {
   "cell_type": "markdown",
   "metadata": {},
   "source": [
    "EJERCICIO DADOS EN PYTHON\n",
    "Se debe generar dos numeros pseudoaleatorios (o dados) que deben utilizar dos librerias distintas, sumar estos numeros y generar una tabla de resultados generar con 100,1000 y 10000 eventos de lazamiento y generar las concluciones.\n",
    "\n",
    "PRIMER CASO CON 100 EVENTOS\n",
    "La matriz resultante muestra la suma de los numeros con la frecuencia y su probabilidad de que se den."
   ]
  },
  {
   "cell_type": "code",
   "execution_count": 12,
   "metadata": {},
   "outputs": [
    {
     "name": "stdout",
     "output_type": "stream",
     "text": [
      "2.0\t4.0\t0.04\t\n",
      "3.0\t5.0\t0.05\t\n",
      "4.0\t6.0\t0.06\t\n",
      "5.0\t12.0\t0.12\t\n",
      "6.0\t18.0\t0.18\t\n",
      "7.0\t16.0\t0.16\t\n",
      "8.0\t17.0\t0.17\t\n",
      "9.0\t11.0\t0.11\t\n",
      "10.0\t5.0\t0.05\t\n",
      "11.0\t5.0\t0.05\t\n",
      "12.0\t1.0\t0.01\t\n"
     ]
    }
   ],
   "source": [
    "import random\n",
    "import numpy as np\n",
    "#mi matriz \n",
    "m = np.zeros((11,3))\n",
    "#lista numeros\n",
    "l=[1,2,3,4,5,6]\n",
    "#cantidad de eventos resultantes en este caso con 100 eventos\n",
    "eventos=\"\"\n",
    "#numeros random de la matriz\n",
    "for i in range(11):\n",
    "    aux=i+2\n",
    "    m[i][0]=aux\n",
    "   # print (aux)\n",
    "#Rango para los eventos\n",
    "for i in range(100):\n",
    "    datos1=(np.random.randint(1,7))\n",
    "    datos2=(random.choice(l))\n",
    "    sum=datos1+datos2\n",
    "    m[sum-2][1]=m[sum-2][1]+1\n",
    "    #  print (sum)\n",
    "  #  print (m)\n",
    "for i in range(11):\n",
    "    m[i][2]=(m[i][1])/100\n",
    "    #  print (m)\n",
    "for i in range(11):\n",
    "    for j in range(3):\n",
    "         eventos+=str(m[i][j])+'\\t'\n",
    "    print (eventos)\n",
    "    eventos=\"\""
   ]
  },
  {
   "cell_type": "markdown",
   "metadata": {},
   "source": [
    "SEGUNDO CASO CON 1000 EVENTOS\n",
    "La matriz resultante muestra la suma de los numeros con la frecuencia y su la probabilidad de que se den, n este caso solo alterando el rango de eventos que usaremos"
   ]
  },
  {
   "cell_type": "code",
   "execution_count": 13,
   "metadata": {},
   "outputs": [
    {
     "name": "stdout",
     "output_type": "stream",
     "text": [
      "2.0\t28.0\t0.028\t\n",
      "3.0\t62.0\t0.062\t\n",
      "4.0\t83.0\t0.083\t\n",
      "5.0\t108.0\t0.108\t\n",
      "6.0\t139.0\t0.139\t\n",
      "7.0\t167.0\t0.167\t\n",
      "8.0\t132.0\t0.132\t\n",
      "9.0\t107.0\t0.107\t\n",
      "10.0\t77.0\t0.077\t\n",
      "11.0\t61.0\t0.061\t\n",
      "12.0\t36.0\t0.036\t\n"
     ]
    }
   ],
   "source": [
    "import random\n",
    "import numpy as np\n",
    "#mi matriz \n",
    "m = np.zeros((11,3))\n",
    "#lista numeros\n",
    "l=[1,2,3,4,5,6]\n",
    "#cantidad de eventos resultantes en este caso con 1000 eventos\n",
    "eventos=\"\"\n",
    "#numeros random de la matriz\n",
    "for i in range(11):\n",
    "    aux=i+2\n",
    "    m[i][0]=aux\n",
    "   # print (aux)\n",
    "#Rango para los eventos\n",
    "for i in range(1000):\n",
    "    datos1=(np.random.randint(1,7))\n",
    "    datos2=(random.choice(l))\n",
    "    sum=datos1+datos2\n",
    "    m[sum-2][1]=m[sum-2][1]+1\n",
    "    #  print (sum)\n",
    "  #  print (m)\n",
    "for i in range(11):\n",
    "    m[i][2]=(m[i][1])/1000\n",
    "    #  print (m)\n",
    "for i in range(11):\n",
    "    for j in range(3):\n",
    "         eventos+=str(m[i][j])+'\\t'\n",
    "    print (eventos)\n",
    "    eventos=\"\""
   ]
  },
  {
   "cell_type": "markdown",
   "metadata": {},
   "source": [
    "TERCER CASO CON 10000 EVENTOS\n",
    "La matriz resultante muestra la suma de los numeros con la frecuencia y su la probabilidad de que se den, n este caso solo alterando el rango de eventos que usaremos 10000"
   ]
  },
  {
   "cell_type": "code",
   "execution_count": 16,
   "metadata": {},
   "outputs": [
    {
     "name": "stdout",
     "output_type": "stream",
     "text": [
      "2.0\t294.0\t0.0294\t\n",
      "3.0\t602.0\t0.0602\t\n",
      "4.0\t832.0\t0.0832\t\n",
      "5.0\t1094.0\t0.1094\t\n",
      "6.0\t1334.0\t0.1334\t\n",
      "7.0\t1670.0\t0.167\t\n",
      "8.0\t1403.0\t0.1403\t\n",
      "9.0\t1125.0\t0.1125\t\n",
      "10.0\t811.0\t0.0811\t\n",
      "11.0\t549.0\t0.0549\t\n",
      "12.0\t286.0\t0.0286\t\n"
     ]
    }
   ],
   "source": [
    "import random\n",
    "import numpy as np\n",
    "#mi matriz \n",
    "m = np.zeros((11,3))\n",
    "#lista numeros\n",
    "l=[1,2,3,4,5,6]\n",
    "#cantidad de eventos resultantes en este caso con 10000 eventos\n",
    "eventos=\"\"\n",
    "#numeros random de la matriz\n",
    "for i in range(11):\n",
    "    aux=i+2\n",
    "    m[i][0]=aux\n",
    "   # print (aux)\n",
    "#Rango para los eventos\n",
    "for i in range(10000):\n",
    "    datos1=(np.random.randint(1,7))\n",
    "    datos2=(random.choice(l))\n",
    "    sum=datos1+datos2\n",
    "    m[sum-2][1]=m[sum-2][1]+1\n",
    "    #  print (sum)\n",
    "  #  print (m)\n",
    "for i in range(11):\n",
    "    m[i][2]=(m[i][1])/10000\n",
    "    #  print (m)\n",
    "for i in range(11):\n",
    "    for j in range(3):\n",
    "         eventos+=str(m[i][j])+'\\t'\n",
    "    print (eventos)\n",
    "    eventos=\"\""
   ]
  },
  {
   "cell_type": "code",
   "execution_count": null,
   "metadata": {},
   "outputs": [],
   "source": []
  }
 ],
 "metadata": {
  "kernelspec": {
   "display_name": "Python 3",
   "language": "python",
   "name": "python3"
  },
  "language_info": {
   "codemirror_mode": {
    "name": "ipython",
    "version": 3
   },
   "file_extension": ".py",
   "mimetype": "text/x-python",
   "name": "python",
   "nbconvert_exporter": "python",
   "pygments_lexer": "ipython3",
   "version": "3.7.4"
  }
 },
 "nbformat": 4,
 "nbformat_minor": 2
}
