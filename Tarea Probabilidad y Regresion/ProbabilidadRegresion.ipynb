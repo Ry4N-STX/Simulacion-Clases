{
 "cells": [
  {
   "cell_type": "markdown",
   "metadata": {},
   "source": [
    "# Covid-19 infección en Ecuador. Modelos probabilisticos\n",
    "Implementacion de un modelo probabilistico de infección por el virus Covid-19\n",
    "\n",
    "Se realiza un análisis probabilistico simple del crecimiento de la infección en Python y el modelos para comprender mejor la evolución de la infección.\n",
    "\n",
    "Se crea modelos de series temporales del número total de personas infectadas hasta la fecha (es decir, las personas realmente infectadas más las personas que han sido infectadas). Estos modelos tienen parámetros , que se estimarán por ajuste de probabilidad."
   ]
  },
  {
   "cell_type": "code",
   "execution_count": 56,
   "metadata": {},
   "outputs": [],
   "source": [
    "# Importar las librerias para el analasis\n",
    "import pandas as pd\n",
    "import numpy as np\n",
    "from datetime import datetime,timedelta\n",
    "from sklearn.metrics import mean_squared_error\n",
    "from scipy.optimize import curve_fit\n",
    "from scipy.optimize import fsolve\n",
    "from sklearn import linear_model\n",
    "import matplotlib.pyplot as plt\n",
    "from sklearn.model_selection import train_test_split\n",
    "from sklearn.preprocessing import PolynomialFeatures\n",
    "from sklearn.linear_model import LinearRegression\n",
    "%matplotlib inline\n",
    "\n",
    "\n"
   ]
  },
  {
   "cell_type": "code",
   "execution_count": 57,
   "metadata": {},
   "outputs": [
    {
     "data": {
      "text/html": [
       "<div>\n",
       "<style scoped>\n",
       "    .dataframe tbody tr th:only-of-type {\n",
       "        vertical-align: middle;\n",
       "    }\n",
       "\n",
       "    .dataframe tbody tr th {\n",
       "        vertical-align: top;\n",
       "    }\n",
       "\n",
       "    .dataframe thead th {\n",
       "        text-align: right;\n",
       "    }\n",
       "</style>\n",
       "<table border=\"1\" class=\"dataframe\">\n",
       "  <thead>\n",
       "    <tr style=\"text-align: right;\">\n",
       "      <th></th>\n",
       "      <th>date</th>\n",
       "      <th>World</th>\n",
       "      <th>Afghanistan</th>\n",
       "      <th>Albania</th>\n",
       "      <th>Algeria</th>\n",
       "      <th>Andorra</th>\n",
       "      <th>Angola</th>\n",
       "      <th>Anguilla</th>\n",
       "      <th>Antigua and Barbuda</th>\n",
       "      <th>Argentina</th>\n",
       "      <th>...</th>\n",
       "      <th>United States</th>\n",
       "      <th>United States Virgin Islands</th>\n",
       "      <th>Uruguay</th>\n",
       "      <th>Uzbekistan</th>\n",
       "      <th>Vatican</th>\n",
       "      <th>Venezuela</th>\n",
       "      <th>Vietnam</th>\n",
       "      <th>Yemen</th>\n",
       "      <th>Zambia</th>\n",
       "      <th>Zimbabwe</th>\n",
       "    </tr>\n",
       "  </thead>\n",
       "  <tbody>\n",
       "    <tr>\n",
       "      <th>0</th>\n",
       "      <td>2019-12-31</td>\n",
       "      <td>27</td>\n",
       "      <td>0.0</td>\n",
       "      <td>NaN</td>\n",
       "      <td>0.0</td>\n",
       "      <td>NaN</td>\n",
       "      <td>NaN</td>\n",
       "      <td>NaN</td>\n",
       "      <td>NaN</td>\n",
       "      <td>NaN</td>\n",
       "      <td>...</td>\n",
       "      <td>0</td>\n",
       "      <td>NaN</td>\n",
       "      <td>NaN</td>\n",
       "      <td>NaN</td>\n",
       "      <td>NaN</td>\n",
       "      <td>NaN</td>\n",
       "      <td>0.0</td>\n",
       "      <td>NaN</td>\n",
       "      <td>NaN</td>\n",
       "      <td>NaN</td>\n",
       "    </tr>\n",
       "    <tr>\n",
       "      <th>1</th>\n",
       "      <td>2020-01-01</td>\n",
       "      <td>0</td>\n",
       "      <td>0.0</td>\n",
       "      <td>NaN</td>\n",
       "      <td>0.0</td>\n",
       "      <td>NaN</td>\n",
       "      <td>NaN</td>\n",
       "      <td>NaN</td>\n",
       "      <td>NaN</td>\n",
       "      <td>NaN</td>\n",
       "      <td>...</td>\n",
       "      <td>0</td>\n",
       "      <td>NaN</td>\n",
       "      <td>NaN</td>\n",
       "      <td>NaN</td>\n",
       "      <td>NaN</td>\n",
       "      <td>NaN</td>\n",
       "      <td>0.0</td>\n",
       "      <td>NaN</td>\n",
       "      <td>NaN</td>\n",
       "      <td>NaN</td>\n",
       "    </tr>\n",
       "    <tr>\n",
       "      <th>2</th>\n",
       "      <td>2020-01-02</td>\n",
       "      <td>0</td>\n",
       "      <td>0.0</td>\n",
       "      <td>NaN</td>\n",
       "      <td>0.0</td>\n",
       "      <td>NaN</td>\n",
       "      <td>NaN</td>\n",
       "      <td>NaN</td>\n",
       "      <td>NaN</td>\n",
       "      <td>NaN</td>\n",
       "      <td>...</td>\n",
       "      <td>0</td>\n",
       "      <td>NaN</td>\n",
       "      <td>NaN</td>\n",
       "      <td>NaN</td>\n",
       "      <td>NaN</td>\n",
       "      <td>NaN</td>\n",
       "      <td>0.0</td>\n",
       "      <td>NaN</td>\n",
       "      <td>NaN</td>\n",
       "      <td>NaN</td>\n",
       "    </tr>\n",
       "    <tr>\n",
       "      <th>3</th>\n",
       "      <td>2020-01-03</td>\n",
       "      <td>17</td>\n",
       "      <td>0.0</td>\n",
       "      <td>NaN</td>\n",
       "      <td>0.0</td>\n",
       "      <td>NaN</td>\n",
       "      <td>NaN</td>\n",
       "      <td>NaN</td>\n",
       "      <td>NaN</td>\n",
       "      <td>NaN</td>\n",
       "      <td>...</td>\n",
       "      <td>0</td>\n",
       "      <td>NaN</td>\n",
       "      <td>NaN</td>\n",
       "      <td>NaN</td>\n",
       "      <td>NaN</td>\n",
       "      <td>NaN</td>\n",
       "      <td>0.0</td>\n",
       "      <td>NaN</td>\n",
       "      <td>NaN</td>\n",
       "      <td>NaN</td>\n",
       "    </tr>\n",
       "    <tr>\n",
       "      <th>4</th>\n",
       "      <td>2020-01-04</td>\n",
       "      <td>0</td>\n",
       "      <td>0.0</td>\n",
       "      <td>NaN</td>\n",
       "      <td>0.0</td>\n",
       "      <td>NaN</td>\n",
       "      <td>NaN</td>\n",
       "      <td>NaN</td>\n",
       "      <td>NaN</td>\n",
       "      <td>NaN</td>\n",
       "      <td>...</td>\n",
       "      <td>0</td>\n",
       "      <td>NaN</td>\n",
       "      <td>NaN</td>\n",
       "      <td>NaN</td>\n",
       "      <td>NaN</td>\n",
       "      <td>NaN</td>\n",
       "      <td>0.0</td>\n",
       "      <td>NaN</td>\n",
       "      <td>NaN</td>\n",
       "      <td>NaN</td>\n",
       "    </tr>\n",
       "    <tr>\n",
       "      <th>...</th>\n",
       "      <td>...</td>\n",
       "      <td>...</td>\n",
       "      <td>...</td>\n",
       "      <td>...</td>\n",
       "      <td>...</td>\n",
       "      <td>...</td>\n",
       "      <td>...</td>\n",
       "      <td>...</td>\n",
       "      <td>...</td>\n",
       "      <td>...</td>\n",
       "      <td>...</td>\n",
       "      <td>...</td>\n",
       "      <td>...</td>\n",
       "      <td>...</td>\n",
       "      <td>...</td>\n",
       "      <td>...</td>\n",
       "      <td>...</td>\n",
       "      <td>...</td>\n",
       "      <td>...</td>\n",
       "      <td>...</td>\n",
       "      <td>...</td>\n",
       "    </tr>\n",
       "    <tr>\n",
       "      <th>111</th>\n",
       "      <td>2020-04-20</td>\n",
       "      <td>74142</td>\n",
       "      <td>88.0</td>\n",
       "      <td>14.0</td>\n",
       "      <td>94.0</td>\n",
       "      <td>9.0</td>\n",
       "      <td>0.0</td>\n",
       "      <td>0.0</td>\n",
       "      <td>0.0</td>\n",
       "      <td>102.0</td>\n",
       "      <td>...</td>\n",
       "      <td>24601</td>\n",
       "      <td>0.0</td>\n",
       "      <td>11.0</td>\n",
       "      <td>70.0</td>\n",
       "      <td>0.0</td>\n",
       "      <td>29.0</td>\n",
       "      <td>0.0</td>\n",
       "      <td>0.0</td>\n",
       "      <td>4.0</td>\n",
       "      <td>0.0</td>\n",
       "    </tr>\n",
       "    <tr>\n",
       "      <th>112</th>\n",
       "      <td>2020-04-21</td>\n",
       "      <td>77274</td>\n",
       "      <td>35.0</td>\n",
       "      <td>22.0</td>\n",
       "      <td>89.0</td>\n",
       "      <td>4.0</td>\n",
       "      <td>0.0</td>\n",
       "      <td>0.0</td>\n",
       "      <td>0.0</td>\n",
       "      <td>90.0</td>\n",
       "      <td>...</td>\n",
       "      <td>28065</td>\n",
       "      <td>1.0</td>\n",
       "      <td>7.0</td>\n",
       "      <td>92.0</td>\n",
       "      <td>1.0</td>\n",
       "      <td>0.0</td>\n",
       "      <td>0.0</td>\n",
       "      <td>0.0</td>\n",
       "      <td>4.0</td>\n",
       "      <td>0.0</td>\n",
       "    </tr>\n",
       "    <tr>\n",
       "      <th>113</th>\n",
       "      <td>2020-04-22</td>\n",
       "      <td>87387</td>\n",
       "      <td>61.0</td>\n",
       "      <td>25.0</td>\n",
       "      <td>93.0</td>\n",
       "      <td>0.0</td>\n",
       "      <td>0.0</td>\n",
       "      <td>0.0</td>\n",
       "      <td>1.0</td>\n",
       "      <td>112.0</td>\n",
       "      <td>...</td>\n",
       "      <td>37289</td>\n",
       "      <td>0.0</td>\n",
       "      <td>8.0</td>\n",
       "      <td>35.0</td>\n",
       "      <td>0.0</td>\n",
       "      <td>29.0</td>\n",
       "      <td>0.0</td>\n",
       "      <td>0.0</td>\n",
       "      <td>0.0</td>\n",
       "      <td>3.0</td>\n",
       "    </tr>\n",
       "    <tr>\n",
       "      <th>114</th>\n",
       "      <td>2020-04-23</td>\n",
       "      <td>67629</td>\n",
       "      <td>84.0</td>\n",
       "      <td>25.0</td>\n",
       "      <td>99.0</td>\n",
       "      <td>6.0</td>\n",
       "      <td>0.0</td>\n",
       "      <td>0.0</td>\n",
       "      <td>0.0</td>\n",
       "      <td>144.0</td>\n",
       "      <td>...</td>\n",
       "      <td>17588</td>\n",
       "      <td>0.0</td>\n",
       "      <td>6.0</td>\n",
       "      <td>24.0</td>\n",
       "      <td>0.0</td>\n",
       "      <td>3.0</td>\n",
       "      <td>0.0</td>\n",
       "      <td>0.0</td>\n",
       "      <td>9.0</td>\n",
       "      <td>0.0</td>\n",
       "    </tr>\n",
       "    <tr>\n",
       "      <th>115</th>\n",
       "      <td>2020-04-24</td>\n",
       "      <td>80071</td>\n",
       "      <td>105.0</td>\n",
       "      <td>29.0</td>\n",
       "      <td>97.0</td>\n",
       "      <td>1.0</td>\n",
       "      <td>1.0</td>\n",
       "      <td>0.0</td>\n",
       "      <td>0.0</td>\n",
       "      <td>147.0</td>\n",
       "      <td>...</td>\n",
       "      <td>26543</td>\n",
       "      <td>0.0</td>\n",
       "      <td>8.0</td>\n",
       "      <td>62.0</td>\n",
       "      <td>0.0</td>\n",
       "      <td>10.0</td>\n",
       "      <td>0.0</td>\n",
       "      <td>0.0</td>\n",
       "      <td>2.0</td>\n",
       "      <td>1.0</td>\n",
       "    </tr>\n",
       "  </tbody>\n",
       "</table>\n",
       "<p>116 rows × 208 columns</p>\n",
       "</div>"
      ],
      "text/plain": [
       "           date  World  Afghanistan  Albania  Algeria  Andorra  Angola  \\\n",
       "0    2019-12-31     27          0.0      NaN      0.0      NaN     NaN   \n",
       "1    2020-01-01      0          0.0      NaN      0.0      NaN     NaN   \n",
       "2    2020-01-02      0          0.0      NaN      0.0      NaN     NaN   \n",
       "3    2020-01-03     17          0.0      NaN      0.0      NaN     NaN   \n",
       "4    2020-01-04      0          0.0      NaN      0.0      NaN     NaN   \n",
       "..          ...    ...          ...      ...      ...      ...     ...   \n",
       "111  2020-04-20  74142         88.0     14.0     94.0      9.0     0.0   \n",
       "112  2020-04-21  77274         35.0     22.0     89.0      4.0     0.0   \n",
       "113  2020-04-22  87387         61.0     25.0     93.0      0.0     0.0   \n",
       "114  2020-04-23  67629         84.0     25.0     99.0      6.0     0.0   \n",
       "115  2020-04-24  80071        105.0     29.0     97.0      1.0     1.0   \n",
       "\n",
       "     Anguilla  Antigua and Barbuda  Argentina  ...  United States  \\\n",
       "0         NaN                  NaN        NaN  ...              0   \n",
       "1         NaN                  NaN        NaN  ...              0   \n",
       "2         NaN                  NaN        NaN  ...              0   \n",
       "3         NaN                  NaN        NaN  ...              0   \n",
       "4         NaN                  NaN        NaN  ...              0   \n",
       "..        ...                  ...        ...  ...            ...   \n",
       "111       0.0                  0.0      102.0  ...          24601   \n",
       "112       0.0                  0.0       90.0  ...          28065   \n",
       "113       0.0                  1.0      112.0  ...          37289   \n",
       "114       0.0                  0.0      144.0  ...          17588   \n",
       "115       0.0                  0.0      147.0  ...          26543   \n",
       "\n",
       "     United States Virgin Islands  Uruguay  Uzbekistan  Vatican  Venezuela  \\\n",
       "0                             NaN      NaN         NaN      NaN        NaN   \n",
       "1                             NaN      NaN         NaN      NaN        NaN   \n",
       "2                             NaN      NaN         NaN      NaN        NaN   \n",
       "3                             NaN      NaN         NaN      NaN        NaN   \n",
       "4                             NaN      NaN         NaN      NaN        NaN   \n",
       "..                            ...      ...         ...      ...        ...   \n",
       "111                           0.0     11.0        70.0      0.0       29.0   \n",
       "112                           1.0      7.0        92.0      1.0        0.0   \n",
       "113                           0.0      8.0        35.0      0.0       29.0   \n",
       "114                           0.0      6.0        24.0      0.0        3.0   \n",
       "115                           0.0      8.0        62.0      0.0       10.0   \n",
       "\n",
       "     Vietnam  Yemen  Zambia  Zimbabwe  \n",
       "0        0.0    NaN     NaN       NaN  \n",
       "1        0.0    NaN     NaN       NaN  \n",
       "2        0.0    NaN     NaN       NaN  \n",
       "3        0.0    NaN     NaN       NaN  \n",
       "4        0.0    NaN     NaN       NaN  \n",
       "..       ...    ...     ...       ...  \n",
       "111      0.0    0.0     4.0       0.0  \n",
       "112      0.0    0.0     4.0       0.0  \n",
       "113      0.0    0.0     0.0       3.0  \n",
       "114      0.0    0.0     9.0       0.0  \n",
       "115      0.0    0.0     2.0       1.0  \n",
       "\n",
       "[116 rows x 208 columns]"
      ]
     },
     "execution_count": 57,
     "metadata": {},
     "output_type": "execute_result"
    }
   ],
   "source": [
    "# Actualizar los datos (URL)\n",
    "url = 'https://covid.ourworldindata.org/data/ecdc/new_cases.csv'\n",
    "df = pd.read_csv(url)\n",
    "df"
   ]
  },
  {
   "cell_type": "markdown",
   "metadata": {},
   "source": [
    "Imprimos los resultados y agregamos el numero del dia\n"
   ]
  },
  {
   "cell_type": "code",
   "execution_count": 58,
   "metadata": {},
   "outputs": [
    {
     "data": {
      "text/html": [
       "<div>\n",
       "<style scoped>\n",
       "    .dataframe tbody tr th:only-of-type {\n",
       "        vertical-align: middle;\n",
       "    }\n",
       "\n",
       "    .dataframe tbody tr th {\n",
       "        vertical-align: top;\n",
       "    }\n",
       "\n",
       "    .dataframe thead th {\n",
       "        text-align: right;\n",
       "    }\n",
       "</style>\n",
       "<table border=\"1\" class=\"dataframe\">\n",
       "  <thead>\n",
       "    <tr style=\"text-align: right;\">\n",
       "      <th></th>\n",
       "      <th>date</th>\n",
       "      <th>Ecuador</th>\n",
       "    </tr>\n",
       "  </thead>\n",
       "  <tbody>\n",
       "    <tr>\n",
       "      <th>0</th>\n",
       "      <td>-1</td>\n",
       "      <td>0.0</td>\n",
       "    </tr>\n",
       "    <tr>\n",
       "      <th>1</th>\n",
       "      <td>0</td>\n",
       "      <td>0.0</td>\n",
       "    </tr>\n",
       "    <tr>\n",
       "      <th>2</th>\n",
       "      <td>1</td>\n",
       "      <td>0.0</td>\n",
       "    </tr>\n",
       "    <tr>\n",
       "      <th>3</th>\n",
       "      <td>2</td>\n",
       "      <td>0.0</td>\n",
       "    </tr>\n",
       "    <tr>\n",
       "      <th>4</th>\n",
       "      <td>3</td>\n",
       "      <td>0.0</td>\n",
       "    </tr>\n",
       "    <tr>\n",
       "      <th>...</th>\n",
       "      <td>...</td>\n",
       "      <td>...</td>\n",
       "    </tr>\n",
       "    <tr>\n",
       "      <th>111</th>\n",
       "      <td>110</td>\n",
       "      <td>446.0</td>\n",
       "    </tr>\n",
       "    <tr>\n",
       "      <th>112</th>\n",
       "      <td>111</td>\n",
       "      <td>660.0</td>\n",
       "    </tr>\n",
       "    <tr>\n",
       "      <th>113</th>\n",
       "      <td>112</td>\n",
       "      <td>270.0</td>\n",
       "    </tr>\n",
       "    <tr>\n",
       "      <th>114</th>\n",
       "      <td>113</td>\n",
       "      <td>452.0</td>\n",
       "    </tr>\n",
       "    <tr>\n",
       "      <th>115</th>\n",
       "      <td>114</td>\n",
       "      <td>333.0</td>\n",
       "    </tr>\n",
       "  </tbody>\n",
       "</table>\n",
       "<p>116 rows × 2 columns</p>\n",
       "</div>"
      ],
      "text/plain": [
       "     date  Ecuador\n",
       "0      -1      0.0\n",
       "1       0      0.0\n",
       "2       1      0.0\n",
       "3       2      0.0\n",
       "4       3      0.0\n",
       "..    ...      ...\n",
       "111   110    446.0\n",
       "112   111    660.0\n",
       "113   112    270.0\n",
       "114   113    452.0\n",
       "115   114    333.0\n",
       "\n",
       "[116 rows x 2 columns]"
      ]
     },
     "execution_count": 58,
     "metadata": {},
     "output_type": "execute_result"
    }
   ],
   "source": [
    "df = df.loc[:,['date','Ecuador']] #Selecciono las columnas de analasis\n",
    "# Expresar las fechas en numero de dias desde el 01 Enero\n",
    "FMT = '%Y-%m-%d'\n",
    "date = df['date']\n",
    "df['date'] = date.map(lambda x : (datetime.strptime(x, FMT) - datetime.strptime(\"2020-01-01\", FMT)).days)\n",
    "df"
   ]
  },
  {
   "cell_type": "code",
   "execution_count": 59,
   "metadata": {},
   "outputs": [
    {
     "data": {
      "text/plain": [
       "<matplotlib.axes._subplots.AxesSubplot at 0x20847ccc788>"
      ]
     },
     "execution_count": 59,
     "metadata": {},
     "output_type": "execute_result"
    },
    {
     "data": {
      "image/png": "[encoded data removed]",
      "text/plain": [
       "<Figure size 432x288 with 1 Axes>"
      ]
     },
     "metadata": {
      "needs_background": "light"
     },
     "output_type": "display_data"
    }
   ],
   "source": [
    "df.plot(x ='date', y='Ecuador')"
   ]
  },
  {
   "cell_type": "markdown",
   "metadata": {},
   "source": [
    "Ahora podemos analizar un modelo probabilisto para el examen.\n",
    "\n",
    "## El modelo basado en probabilidad\n",
    "\n",
    "Para realizar un estimacion del factor de crecimiento de los casos de Covid 19 en Ecuador calculamos la mediana, con esto obtenemo el valor medio de crecimiento de un conjunto de datos, con esto podemos obtener un factor de crecimiento o taza de crecimiento de los nuevos casos.\n",
    "\n"
   ]
  },
  {
   "cell_type": "code",
   "execution_count": 60,
   "metadata": {},
   "outputs": [
    {
     "name": "stdout",
     "output_type": "stream",
     "text": [
      "155.0\n",
      "223.66\n"
     ]
    }
   ],
   "source": [
    "filtro = df[\"Ecuador\"][61:] # Filtro los datos que se empezo a tener casos\n",
    "#Obtenemos la mediana\n",
    "media = filtro.mean()\n",
    "mediana = filtro.median()\n",
    "print(mediana)\n",
    "print(media)\n"
   ]
  },
  {
   "cell_type": "markdown",
   "metadata": {},
   "source": [
    "De la ecuación de la recta y = mX + b nuestra pendiente «m» es el coeficiente y el término independiente «b»\n"
   ]
  },
  {
   "cell_type": "code",
   "execution_count": 71,
   "metadata": {},
   "outputs": [
    {
     "name": "stdout",
     "output_type": "stream",
     "text": [
      "11338\n"
     ]
    }
   ],
   "source": [
    "#Vamos a comprobar:\n",
    "# según la media y la mediana podemos obtener la taza de crecieminto y predicir su comportamiento.\n",
    "# Cargamos los datos de total de casos\n",
    "url = 'https://covid.ourworldindata.org/data/ecdc/total_cases.csv'\n",
    "df_t = pd.read_csv(url)\n",
    "FMT = '%Y-%m-%d'\n",
    "date = df_t['date']\n",
    "df_t['date'] = date.map(lambda x : (datetime.strptime(x, FMT) - datetime.strptime(\"2020-01-01\", FMT)).days)\n",
    "df_t = df_t.loc[:,['date','Ecuador']] #Selecciono las columnas de analasis\n",
    "y = list(df_t.iloc [:, 1]) # Total casos\n",
    "x = list(df_t.iloc [:, 0]) # Dias\n",
    "#Realizamos un ejemplo de prediccion\n",
    "prediccion_siguiente = int(y[-1] + mediana)\n",
    "print(prediccion_siguiente)"
   ]
  },
  {
   "cell_type": "code",
   "execution_count": 72,
   "metadata": {},
   "outputs": [
    {
     "data": {
      "image/png": "[encoded data removed]",
      "text/plain": [
       "<Figure size 504x504 with 1 Axes>"
      ]
     },
     "metadata": {
      "needs_background": "light"
     },
     "output_type": "display_data"
    },
    {
     "name": "stdout",
     "output_type": "stream",
     "text": [
      "Estimado 12733\n",
      "Resultado YR\n",
      "[1.0, 6.0, 7.0, 0, 10.0, 13.0, 0, 0, 14.0, 15.0, 17.0, 0, 0, 23.0, 28.0, 37.0, 58.0, 111.0, 168.0, 199.0, 426.0, 532.0, 789.0, 981.0, 1082.0, 1211.0, 1403.0, 1627.0, 1835.0, 1890.0, 1966.0, 2302.0, 2758.0, 3163.0, 3368.0, 3465.0, 3646.0, 3747.0, 3995.0, 4450.0, 4965.0, 7161.0, 7257.0, 7466.0, 7529.0, 7603.0, 7858.0, 8225.0, 8450.0, 9022.0, 9468.0, 10128.0, 10398.0, 10850.0, 11183.0]\n",
      "Resultado XR\n",
      "[60, 61, 62, 63, 64, 65, 66, 67, 68, 69, 70, 71, 72, 73, 74, 75, 76, 77, 78, 79, 80, 81, 82, 83, 84, 85, 86, 87, 88, 89, 90, 91, 92, 93, 94, 95, 96, 97, 98, 99, 100, 101, 102, 103, 104, 105, 106, 107, 108, 109, 110, 111, 112, 113, 114]\n"
     ]
    }
   ],
   "source": [
    "# Quiero predecir cuántos \"Casos\" voy a obtener de aqui a 10 dias.\n",
    "xp=np.zeros(len(x[61:]))\n",
    "yp=np.zeros(len(y[61:]))\n",
    "xr=np.zeros(len(x[61:]))\n",
    "yr=np.zeros(len(y[61:]))\n",
    "\n",
    "xp=x[61:]\n",
    "yp=y[61:]\n",
    "xr=x[61:]\n",
    "yr=y[61:]\n",
    "for i in range(x[-1], x[-1]+10):\n",
    "    x.append(i)\n",
    "    y.append(int(y[-1] + mediana))\n",
    "plt.plot(x[61:], y[61:])\n",
    "plt.show()\n",
    "\n",
    "print(\"Estimado\",y[-1])\n",
    "\n",
    "yr[3]=0\n",
    "yr[6]=0\n",
    "yr[7]=0\n",
    "yr[11]=0\n",
    "yr[12]=0\n",
    "yp[3]=0\n",
    "yp[6]=0\n",
    "yp[7]=0\n",
    "yp[11]=0\n",
    "yp[12]=0\n",
    "print(\"Resultado YR\")\n",
    "print(yr)\n",
    "print(\"Resultado XR\")\n",
    "print(xr)"
   ]
  },
  {
   "cell_type": "markdown",
   "metadata": {},
   "source": [
    "# Practica\n",
    "\n",
    "1. Comparar el modelo de predicion matematico vs probabilidad.\n",
    "2. Generar el SIR en base al modelo de probabilidad y obtener beta y gamma con una semana de prediccion.\n",
    "3. Retroceder un semana y comparar el modelo matematico vs probabilidad vs reales. Solo cargan los datos para generar los modelos menos 7 dias.\n",
    "\n",
    "Puntos extras: Investigas sobre la correlacion de variables y aplicar el calculo en base a los datos del Ecuador."
   ]
  },
  {
   "cell_type": "markdown",
   "metadata": {},
   "source": [
    "# Implementar\n",
    "# 1. Comparar el modelo de predicion matematico vs probabilidad.\n",
    "Comparacion con el Modelo Polinomial en una prediccion de una semana"
   ]
  },
  {
   "cell_type": "code",
   "execution_count": 8,
   "metadata": {},
   "outputs": [
    {
     "name": "stdout",
     "output_type": "stream",
     "text": [
      "Prediccion Estimada 11305.34420951843\n"
     ]
    },
    {
     "data": {
      "image/png": "[encoded data removed]",
      "text/plain": [
       "<Figure size 432x288 with 1 Axes>"
      ]
     },
     "metadata": {
      "needs_background": "light"
     },
     "output_type": "display_data"
    }
   ],
   "source": [
    "# Modelo Polinomial\n",
    "datos = {}\n",
    "# Definir los puntos\n",
    "for dias in range(1,6):\n",
    "    z = np.polyfit(xr, yr, dias, full=True)\n",
    "    datos[dias] = z\n",
    "plt.plot(x, y, 'r')\n",
    "# RAGO\n",
    "xp=np.array(range(60,200))\n",
    "# fUNCION POLINOMIAL\n",
    "for dias, escala in datos.items():\n",
    "    coefs, error, *_ = escala\n",
    "    p = np.poly1d(coefs)\n",
    "plt.rcParams['figure.figsize'] = [7, 7]\n",
    "plt.rc('font', size=14)\n",
    "plt.scatter(x,y,label=\"Datos Reales\",color=\"blue\")\n",
    "plt.plot(xp, p(xp), \"-\", label=\"Funcion Polinomial\",color=\"green\")\n",
    "plt.legend()\n",
    "plt.xlabel(\"Fecha 2020-01-01\")\n",
    "plt.ylabel(\"Total de personas infectadas\")\n",
    "plt.ylim((min(y)*(-1000),max(y)*1.5)) # Definir los limites de Y\n",
    "plt.xlim((min(x)*(-50),max(x)*1.2))# Definir los limites de X\n",
    "print(\"Prediccion Estimada\",p(115))"
   ]
  },
  {
   "cell_type": "markdown",
   "metadata": {},
   "source": [
    "# Generar el SIR en base al modelo de probabilidad y obtener beta y gamma con una semana de prediccion."
   ]
  },
  {
   "cell_type": "code",
   "execution_count": 9,
   "metadata": {},
   "outputs": [],
   "source": [
    "#Librerias\n",
    "import numpy as np \n",
    "from datetime import datetime,timedelta\n",
    "from scipy.integrate import odeint\n",
    "\n",
    "import matplotlib.pyplot as plt\n",
    "import pandas as pd,requests,sys,numpy as np, matplotlib, math, matplotlib.pyplot as plt,scipy\n",
    "from scipy.integrate import solve_ivp\n",
    "\n",
    "from scipy.optimize import minimize\n",
    "from IPython.display import display"
   ]
  },
  {
   "cell_type": "code",
   "execution_count": 10,
   "metadata": {},
   "outputs": [
    {
     "name": "stdout",
     "output_type": "stream",
     "text": [
      "55\n",
      "55\n",
      "[1.0, 6.0, 7.0, 0, 10.0, 13.0, 0, 0, 14.0, 15.0, 17.0, 0, 0, 23.0, 28.0, 37.0, 58.0, 111.0, 168.0, 199.0, 426.0, 532.0, 789.0, 981.0, 1082.0, 1211.0, 1403.0, 1627.0, 1835.0, 1890.0, 1966.0, 2302.0, 2758.0, 3163.0, 3368.0, 3465.0, 3646.0, 3747.0, 3995.0, 4450.0, 4965.0, 7161.0, 7257.0, 7466.0, 7529.0, 7603.0, 7858.0, 8225.0, 8450.0, 9022.0, 9468.0, 10128.0, 10398.0, 10850.0, 11183.0]\n"
     ]
    }
   ],
   "source": [
    "#Prediccion a Una semana\n",
    "xpredicct=np.zeros(len(x[61:]))\n",
    "ypredicct=np.zeros(len(y[61:]))\n",
    "\n",
    "for i in range(xr[-1], xr[-1]+7):\n",
    "    x.append(i)\n",
    "    y.append(int(yr[-1] + mediana))\n",
    "print(len(yr))\n",
    "print(len(xr))\n",
    "print(yr)"
   ]
  },
  {
   "cell_type": "code",
   "execution_count": 28,
   "metadata": {},
   "outputs": [
    {
     "name": "stdout",
     "output_type": "stream",
     "text": [
      "Resultado Beta: \n",
      "0.026805428596379077\n",
      "Resultado Gamma: \n",
      "0.001\n",
      "Resultado R0: \n",
      "26.805428596379077\n",
      "Resultado Susceptibles: \n",
      "8.935060903649056\n",
      "Resultado Recuperados: \n",
      "37891.64554409376\n"
     ]
    },
    {
     "data": {
      "image/png": "[encoded data removed]",
      "text/plain": [
       "<Figure size 504x504 with 1 Axes>"
      ]
     },
     "metadata": {},
     "output_type": "display_data"
    }
   ],
   "source": [
    "#La función de pérdida\n",
    "def loss(point, data, rf, s_0, i_0, r_0):\n",
    "     \n",
    "    size = len(data)\n",
    "    beta, gamma = point\n",
    "    def SIR(t, y):\n",
    "        S = y[0]\n",
    "        I = y[1]\n",
    "        R = y[2]\n",
    "        return [-beta*S*I, beta*S*I-gamma*I, gamma*I]\n",
    "    solution = solve_ivp(SIR, [0, size], [s_0,i_0,r_0], t_eval=np.arange(0, size, 1), vectorized=True)\n",
    "    l1 = np.sqrt(np.mean((solution.y[1] - data)**2))\n",
    "    l2 = np.sqrt(np.mean((solution.y[2] - rf)**2))\n",
    "    alpha = 0.1\n",
    "    return alpha * l1 + (1 - alpha) * l2\n",
    "\n",
    "#Cargamos datos de la prediccion yr\n",
    "data = (yr)\n",
    "\n",
    "# Total de la poblacion\n",
    "N = 80000\n",
    "# Numero Inicial de Infectados\n",
    "I0 = 1\n",
    "# Numero de Recuperados\n",
    "R0 = yr[len(yr)-1]\n",
    "# Todos los demás, S0, son susceptibles a la infección inicialmente.\n",
    "S0 = N - I0 - R0\n",
    "optimal = minimize(loss, [0.0001, 0.0001], args=(data, 0, S0, I0, R0), method='L-BFGS-B', bounds=[(0.00000001, 0.4), (0.00000001, 0.4)])\n",
    "beta, gamma = optimal.x\n",
    "\n",
    "beta *= 10000\n",
    "gamma *= 100000 \n",
    "\n",
    "print('Resultado Beta: ' )\n",
    "print(beta)\n",
    "print('Resultado Gamma: ')\n",
    "print(gamma)\n",
    "print(\"Resultado R0: \")\n",
    "print(beta/gamma)\n",
    "# Una cuadrícula de puntos de tiempo (en días)\n",
    "t = np.linspace(0,1000, 10000)\n",
    "# Las ecuaciones diferenciales del modelo SIR..\n",
    "def deriv(y, t, N, beta, gamma):\n",
    "    S, I, R = y\n",
    "    dSdt = -beta * S * I / N \n",
    "    dIdt = beta * S * I / N - gamma * I\n",
    "    dRdt = gamma * I\n",
    "    return dSdt, dIdt, dRdt\n",
    "\n",
    "y0 = S0, I0, R0\n",
    "ret = odeint(deriv, y0, t, args=(N, beta, gamma))\n",
    "S, I, R = ret.T\n",
    "print(\"Resultado Susceptibles: \")\n",
    "print(S[len(S)-1])\n",
    "print(\"Resultado Recuperados: \")\n",
    "print(R[len(R)-1])\n",
    "\n",
    "fig = plt.figure(facecolor='w')\n",
    "\n",
    "#  Trace los datos en tres curvas separadas para S (t), I (t) y R (t)\n",
    "ax = fig.add_subplot(111,  axisbelow=True)\n",
    "ax.plot(t, S, 'b', alpha=0.5, lw=2, label='Sustible')\n",
    "ax.plot(t, I, 'r', alpha=0.5, lw=2, label='Infectados')\n",
    "ax.plot(t, R, 'g', alpha=0.5, lw=2, label='Recuperados')\n",
    "ax.set_xlabel('Dias Trascurridos')\n",
    "ax.set_ylabel('Infectados')\n",
    "ax.set_ylim(0,N*1.2)\n",
    "ax.yaxis.set_tick_params(length=0)\n",
    "ax.xaxis.set_tick_params(length=0)\n",
    "ax.grid(b=True, which='major', c='w', lw=2, ls='-')\n",
    "legend = ax.legend()\n",
    "legend.get_frame().set_alpha(0.5)\n",
    "for spine in ('top', 'right', 'bottom', 'left'):\n",
    "    ax.spines[spine].set_visible(False)\n",
    "plt.show()"
   ]
  },
  {
   "cell_type": "markdown",
   "metadata": {},
   "source": [
    "# Retroceder un semana y comparar el modelo matematico vs probabilidad vs reales. Solo cargan los datos para generar los modelos menos 7 dias."
   ]
  },
  {
   "cell_type": "code",
   "execution_count": 73,
   "metadata": {},
   "outputs": [
    {
     "name": "stdout",
     "output_type": "stream",
     "text": [
      "Resultado Prediccion menos 7 dias:  8225.0\n"
     ]
    },
    {
     "data": {
      "image/png": "[encoded data removed]",
      "text/plain": [
       "<Figure size 504x504 with 1 Axes>"
      ]
     },
     "metadata": {
      "needs_background": "light"
     },
     "output_type": "display_data"
    },
    {
     "name": "stdout",
     "output_type": "stream",
     "text": [
      "Nueva mediana:  97.0\n",
      "Nueva media: 185.4390243902439\n"
     ]
    }
   ],
   "source": [
    "#Restamos una semana a los datos y calculamos\n",
    "xA=np.zeros(len(xp)-7)\n",
    "yA=np.zeros(len(yp)-7)\n",
    "x_new=np.zeros(7)\n",
    "y_new=np.zeros(7)\n",
    "for i in range(len(xp)-7):\n",
    "    xA[i]=xp[i]\n",
    "    yA[i]=yp[i]\n",
    "for i in range(7):\n",
    "    x_new[i]=xp[48+i]\n",
    "    y_new[i]=yp[48+i]\n",
    "xprobable=np.zeros(len(xp))\n",
    "yprobable=np.zeros(len(yp))\n",
    "yprobable=yp\n",
    "xprobable=xp\n",
    "print(\"Resultado Prediccion menos 7 dias: \",yA[-1])\n",
    "plt.plot(xA,yA)\n",
    "plt.show()\n",
    "filtroSemanaAtras = df[\"Ecuador\"][61:107] # Filtro los datos que se empezo a tener casos\n",
    "\n",
    "medianueva = filtroSemanaAtras.mean()\n",
    "mediananueva = filtroSemanaAtras.median()\n",
    "print(\"Nueva mediana: \",mediananueva)\n",
    "print(\"Nueva media:\" , medianueva)"
   ]
  },
  {
   "cell_type": "markdown",
   "metadata": {},
   "source": [
    "# Con el modelo matematico polimonial"
   ]
  },
  {
   "cell_type": "code",
   "execution_count": 77,
   "metadata": {},
   "outputs": [
    {
     "name": "stdout",
     "output_type": "stream",
     "text": [
      "Prediccion Estimada 5487.472717557976\n"
     ]
    },
    {
     "data": {
      "image/png": "[encoded data removed]",
      "text/plain": [
       "<Figure size 504x504 with 1 Axes>"
      ]
     },
     "metadata": {
      "needs_background": "light"
     },
     "output_type": "display_data"
    }
   ],
   "source": [
    "# Modelo Polinomial\n",
    "datos = {}\n",
    "# Definir los puntos\n",
    "for dias in range(1,6):\n",
    "    z = np.polyfit(xprobable, yprobable, dias, full=True)\n",
    "    datos[dias] = z\n",
    "plt.plot(xprobable, yprobable, 'r')\n",
    "# RAGO\n",
    "xprobable=np.array(range(60,200))\n",
    "# fUNCION POLINOMIAL\n",
    "for dias, escala in datos.items():\n",
    "    coefs, error, *_ = escala\n",
    "    p = np.poly1d(coefs)\n",
    "plt.rcParams['figure.figsize'] = [7, 7]\n",
    "plt.rc('font', size=14)\n",
    "plt.scatter(x,y,label=\"Datos Reales\",color=\"blue\")\n",
    "plt.plot(xp, p(xp), \"-\", label=\"Funcion Polinomial\",color=\"green\")\n",
    "plt.legend()\n",
    "plt.xlabel(\"Fecha 2020-01-01\")\n",
    "plt.ylabel(\"Total de personas infectadas\")\n",
    "plt.ylim((min(y)*(-1000),max(y)*1.5)) # Definir los limites de Y\n",
    "plt.xlim((min(x)*(-50),max(x)*1.2))# Definir los limites de X\n",
    "print(\"Prediccion Estimada\",p(100))"
   ]
  },
  {
   "cell_type": "markdown",
   "metadata": {},
   "source": [
    "## Analisis\n",
    "En base a los resultados obtenidos de los dos modelos apreciamos que el modelo probabilistico posee una mejor certeza en su prediccion ya que calculamos la mediana y obtenemo el valor medio de crecimiento de un conjunto de datoscon lo cual obtenemos un crecimiento o taza de crecimiento de los nuevos casos mas claro. Aun asi el modelo polinomial posee una curva de prediccion muy establ y presisa deacuerdo al grado del polinomio.\n",
    "\n",
    "## Conclusiones\n",
    "Podemos decir que los dos modelos tienes su ventaja deacuerdo a la manera que esperamos obtener la prediccion de nuestro datos, ya sea con el probabilistico que maneja mejor los datos con una media y mediana, o por otro lado el polinomial que presenta una curva muy presisa de los datos.\n",
    "\n",
    "## Criterio personal (politico, economico y  social de la situacion)\n",
    "En base a la situacion vista, no es sorpresa que la situacion del pais esta en grabe declive ya que en algunos casos las medidad establecidas por el gobierno estan mas rigurosas u/o estrictas debido al gran crecimiento casos que se esta dando, la situacion de las personas es bastante mala en unos por la falta de trabajo y otros por la falta de pagos de estos, por lo cual los recursos basicos se les hace complicado obtener debido a la falta de dinero que la mayoria sufrimos, por otro lado vemos falta de insumos medicos y inconformidad de la poblacion por malos tratos o despreocupacion de algunos centros, por ultimo decimos que como personas en general deberiamos comtar siempre con informacion verificada ya que esta corriendo mucha informacion falsa que esta solo agrava la situacion y panico en la gente"
   ]
  },
  {
   "cell_type": "markdown",
   "metadata": {},
   "source": [
    "# Referencias\n",
    "\n",
    "- https://www.researchgate.net/publication/340092755_Infeccion_del_Covid-19_en_Colombia_Una_comparacion_de_modelos_logisticos_y_exponenciales_aplicados_a_la_infeccion_por_el_virus_en_Colombia\n",
    "\n",
    "- https://www.aprendemachinelearning.com/regresion-lineal-en-espanol-con-python/"
   ]
  }
 ],
 "metadata": {
  "kernelspec": {
   "display_name": "Python 3",
   "language": "python",
   "name": "python3"
  },
  "language_info": {
   "codemirror_mode": {
    "name": "ipython",
    "version": 3
   },
   "file_extension": ".py",
   "mimetype": "text/x-python",
   "name": "python",
   "nbconvert_exporter": "python",
   "pygments_lexer": "ipython3",
   "version": "3.7.4"
  }
 },
 "nbformat": 4,
 "nbformat_minor": 2
}
